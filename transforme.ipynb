{
 "cells": [
  {
   "cell_type": "code",
   "execution_count": 220,
   "metadata": {},
   "outputs": [],
   "source": [
    "import pandas as pd\n",
    "import numpy as np"
   ]
  },
  {
   "cell_type": "code",
   "execution_count": 239,
   "metadata": {},
   "outputs": [],
   "source": [
    "india = pd.read_csv('/Users/zakariatozy/Library/Mobile Documents/com~apple~CloudDocs/IPP/IPP ZAK/RO/Projet_RODM_2023/data/india.txt', sep='\\t', encoding='utf-8')"
   ]
  },
  {
   "cell_type": "code",
   "execution_count": 243,
   "metadata": {},
   "outputs": [],
   "source": [
    "india = india[:200]"
   ]
  },
  {
   "cell_type": "code",
   "execution_count": 244,
   "metadata": {},
   "outputs": [],
   "source": [
    "arr  = india.values\n",
    "X = []\n",
    "y = []\n",
    "for val in arr : \n",
    "    val = val[0]\n",
    "    feature = str(val).split(',')\n",
    "    X.append(feature[:-1])\n",
    "    y.append(feature[-1])"
   ]
  },
  {
   "cell_type": "code",
   "execution_count": 245,
   "metadata": {},
   "outputs": [],
   "source": [
    "all_X = []\n",
    "for i in range(len(X)):\n",
    "    row = ''\n",
    "    for elem in X[i][:-1]:\n",
    "        row += str(elem) + ' '\n",
    "    row += str(X[i][-1])\n",
    "    all_X.append(row)"
   ]
  },
  {
   "cell_type": "code",
   "execution_count": 246,
   "metadata": {},
   "outputs": [],
   "source": [
    "f = open('/Users/zakariatozy/Library/Mobile Documents/com~apple~CloudDocs/IPP/IPP ZAK/RO/Projet_RODM_2023/data/indiatest.txt', 'w')\n",
    "f.write('X=[')\n",
    "for row in all_X[:-1]:\n",
    "    f.write(row)\n",
    "    f.write('; ')\n",
    " \n",
    "f.write(all_X[-1])   \n",
    "f.write(']\\n')\n",
    "\n",
    "f.write('Y=[')\n",
    "for row in y[:-1]:\n",
    "    f.write(row)\n",
    "    f.write(', ')\n",
    "f.write(y[-1])\n",
    "f.write(']')\n",
    "f.close()"
   ]
  },
  {
   "cell_type": "code",
   "execution_count": 248,
   "metadata": {},
   "outputs": [],
   "source": [
    "ionosphere = pd.read_csv('/Users/zakariatozy/Library/Mobile Documents/com~apple~CloudDocs/IPP/IPP ZAK/RO/Projet_RODM_2023/data/ionosphere.data', sep='\\t', encoding='utf-8')"
   ]
  },
  {
   "cell_type": "code",
   "execution_count": 253,
   "metadata": {},
   "outputs": [],
   "source": [
    "arr  = india.values\n",
    "X = []\n",
    "y = []\n",
    "for val in arr : \n",
    "    val = val[0]\n",
    "    feature = str(val).split(',')\n",
    "    X.append(feature[:-1])\n",
    "    y.append(feature[-1])"
   ]
  },
  {
   "cell_type": "code",
   "execution_count": 256,
   "metadata": {},
   "outputs": [],
   "source": [
    "f = open('/Users/zakariatozy/Library/Mobile Documents/com~apple~CloudDocs/IPP/IPP ZAK/RO/Projet_RODM_2023/data/ionosphere.txt', 'w')\n",
    "f.write('X=[')\n",
    "for row in all_X[:-1]:\n",
    "    f.write(row)\n",
    "    f.write('; ')\n",
    " \n",
    "f.write(all_X[-1])   \n",
    "f.write(']\\n')\n",
    "\n",
    "f.write('Y=[')\n",
    "for row in y[:-1]:\n",
    "    f.write(row)\n",
    "    f.write(', ')\n",
    "f.write(y[-1])\n",
    "f.write(']')\n",
    "f.close()"
   ]
  }
 ],
 "metadata": {
  "kernelspec": {
   "display_name": "tensorflow",
   "language": "python",
   "name": "python3"
  },
  "language_info": {
   "codemirror_mode": {
    "name": "ipython",
    "version": 3
   },
   "file_extension": ".py",
   "mimetype": "text/x-python",
   "name": "python",
   "nbconvert_exporter": "python",
   "pygments_lexer": "ipython3",
   "version": "3.9.16"
  },
  "orig_nbformat": 4
 },
 "nbformat": 4,
 "nbformat_minor": 2
}
